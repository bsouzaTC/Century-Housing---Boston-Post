{
 "cells": [
  {
   "cell_type": "code",
   "execution_count": 1,
   "id": "2814088f-fabb-4fef-aa53-2f1bdf28d41b",
   "metadata": {},
   "outputs": [
    {
     "name": "stdout",
     "output_type": "stream",
     "text": [
      "Processing completed. Modified files are in the 'modified_files' folder.\n"
     ]
    }
   ],
   "source": [
    "import os\n",
    "import pandas as pd\n",
    "import re\n",
    "\n",
    "# Function to process an individual file\n",
    "def process_file(input_file, output_file):\n",
    "    # Load the CSV file\n",
    "    df = pd.read_csv(input_file)\n",
    "    \n",
    "    # 1. Remove rows containing the word 'Parking' in column B\n",
    "    df = df[~df['BD/BA'].str.contains('Parking', na=False)]\n",
    "    \n",
    "    # 2. Replace \"--VACANT--\" or \"VACANT\" with a blank cell in column C (Tenant)\n",
    "    df['Tenant'] = df['Tenant'].replace(['--VACANT--', 'VACANT'], '')\n",
    "    \n",
    "    # 3. Change the last row in column A to display the number of units followed by 'Units'\n",
    "    total_units = df.iloc[3:].shape[0]  # Count rows from line 4 onwards\n",
    "    df.loc[df.index[-1], 'Unit'] = f'{total_units} Units'  # Replace 'Totals' with number of units\n",
    "    \n",
    "    # 4. Modify column B (BD/BA)\n",
    "    def modify_bd_ba(value):\n",
    "        if pd.isna(value):\n",
    "            return value  # Ignore null values\n",
    "        if re.match(r'^\\d+', value):  # If it starts with a number\n",
    "            number = re.match(r'^\\d+', value).group(0)  # Extract the number from the start\n",
    "            return f'{number}/1.0'  # Keep the number and add \"/1.0\"\n",
    "        else:\n",
    "            return '1/1.0'  # If it's text, replace with '1/1.0'\n",
    "    \n",
    "    df['BD/BA'] = df['BD/BA'].apply(modify_bd_ba)\n",
    "\n",
    "    # 5. Remove letters and symbols in column A, starting from line 4 (inclusive) and excluding the last row\n",
    "    df.loc[2:len(df)-2, 'Unit'] = df.loc[2:len(df)-2, 'Unit'].apply(lambda x: re.sub(r'\\D', '', str(x)))\n",
    "\n",
    "    # 6. Calculate occupancy percentage (\"Current\" values in the \"Status\" column)\n",
    "    total_status = len(df['Status'].dropna())  # Total of non-null values in the \"Status\" column\n",
    "    current_occupied = df['Status'].str.contains('Current', na=False).sum()  # Number of \"Current\" in the \"Status\" column\n",
    "    \n",
    "    # Calculate the percentage\n",
    "    if total_status > 0:\n",
    "        occupancy_percentage = (current_occupied / total_status) * 100\n",
    "    else:\n",
    "        occupancy_percentage = 0\n",
    "    \n",
    "    # 7. Add \"X% Occupied\" in the same row as \"Total Units\" (last row in the \"Unit\" column)\n",
    "    df.loc[df.index[-1], 'Status'] = f'{occupancy_percentage:.2f}% Occupied'\n",
    "\n",
    "    # Save the processed file in a new folder\n",
    "    df.to_csv(output_file, index=False)\n",
    "\n",
    "# Paths for input and output folders\n",
    "input_folder = r'C:\\Users\\Meu Computador\\OneDrive - Thirty Capital\\01_Live Clients\\09_Century Housing\\Boston Post\\Rent Roll - File Conversion\\10.21'\n",
    "output_folder = r'C:\\Users\\Meu Computador\\OneDrive - Thirty Capital\\01_Live Clients\\09_Century Housing\\Boston Post\\Rent Roll - File Ingestion\\modified_files'\n",
    "\n",
    "# Create the output folder if it does not exist\n",
    "os.makedirs(output_folder, exist_ok=True)\n",
    "\n",
    "# Process all CSV files in the input folder\n",
    "for filename in os.listdir(input_folder):\n",
    "    if filename.endswith('.csv'):\n",
    "        input_file = os.path.join(input_folder, filename)\n",
    "        output_file = os.path.join(output_folder, filename)\n",
    "        process_file(input_file, output_file)\n",
    "\n",
    "print(\"Processing completed. Modified files are in the 'modified_files' folder.\")\n"
   ]
  },
  {
   "cell_type": "code",
   "execution_count": null,
   "id": "4b677282-073b-4e66-8b7f-67a343fe7962",
   "metadata": {},
   "outputs": [],
   "source": []
  }
 ],
 "metadata": {
  "kernelspec": {
   "display_name": "Python 3 (ipykernel)",
   "language": "python",
   "name": "python3"
  },
  "language_info": {
   "codemirror_mode": {
    "name": "ipython",
    "version": 3
   },
   "file_extension": ".py",
   "mimetype": "text/x-python",
   "name": "python",
   "nbconvert_exporter": "python",
   "pygments_lexer": "ipython3",
   "version": "3.12.4"
  }
 },
 "nbformat": 4,
 "nbformat_minor": 5
}
